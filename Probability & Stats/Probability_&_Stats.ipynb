{
  "nbformat": 4,
  "nbformat_minor": 0,
  "metadata": {
    "colab": {
      "provenance": []
    },
    "kernelspec": {
      "name": "python3",
      "display_name": "Python 3"
    },
    "language_info": {
      "name": "python"
    }
  },
  "cells": [
    {
      "cell_type": "code",
      "execution_count": null,
      "metadata": {
        "id": "1hbSHgOcC0ap"
      },
      "outputs": [],
      "source": []
    },
    {
      "cell_type": "markdown",
      "source": [
        "1. Conditional Probability (Classic Bayes Problem)\n",
        "A medical test for a disease has a 1% false positive rate and 0.1% false negative rate.\n",
        "The disease prevalence is 0.5%.\n",
        "If a patient tests positive, what’s the probability they actually have the disease?\n",
        "Discuss:\n",
        "\n",
        "Bayes’ theorem in words\n",
        "\n",
        "Interpreting probabilities vs real-world intuition\n",
        "\n",
        "“Base rate fallacy”\n",
        "\n"
      ],
      "metadata": {
        "id": "ADYukiIBC9Cn"
      }
    },
    {
      "cell_type": "code",
      "source": [],
      "metadata": {
        "id": "Hvp7AYj6DIhp"
      },
      "execution_count": null,
      "outputs": []
    },
    {
      "cell_type": "markdown",
      "source": [
        "2. Coin Flip Problem (Expected Value)\n",
        "You flip a fair coin until you get heads.\n",
        "What is the expected number of flips?\n",
        "Answer: 2\n",
        "Follow-up:\n",
        "If the coin lands heads with probability p, what’s the expected number of flips?\n",
        "Concepts: geometric distribution, expectation of discrete random variables.\n",
        "\n"
      ],
      "metadata": {
        "id": "kCZoXE_kC-5O"
      }
    },
    {
      "cell_type": "code",
      "source": [],
      "metadata": {
        "id": "y8UYIrMtDJJe"
      },
      "execution_count": null,
      "outputs": []
    },
    {
      "cell_type": "markdown",
      "source": [
        "3. Sampling and Bias Problem\n",
        "You have a dataset of car accidents collected only from insurance claims.\n",
        "How could this data lead to a biased estimate of crash frequency?\n",
        "Discuss:\n",
        "\n",
        "Selection bias, survivorship bias, missing data\n",
        "\n",
        "Real-world data collection issues in ML contexts\n",
        "\n"
      ],
      "metadata": {
        "id": "fO1skdNuDAkG"
      }
    },
    {
      "cell_type": "code",
      "source": [],
      "metadata": {
        "id": "s-2tjgwHDJlJ"
      },
      "execution_count": null,
      "outputs": []
    },
    {
      "cell_type": "markdown",
      "source": [
        "4. Conditional Expectation\n",
        "A fair six-sided die is rolled.\n",
        "Let X = number shown.\n",
        "Compute E[X | X > 3].\n",
        "Answer: (4+5+6)/3 = 5\n",
        "Concepts: conditional expectation, intuition vs formula.\n",
        "\n"
      ],
      "metadata": {
        "id": "Es7Tzi3rDCUm"
      }
    },
    {
      "cell_type": "code",
      "source": [],
      "metadata": {
        "id": "v43QaWJpDKDX"
      },
      "execution_count": null,
      "outputs": []
    },
    {
      "cell_type": "markdown",
      "source": [
        "5. Probability Puzzle (Balls in Boxes)\n",
        "You have 3 boxes:\n",
        "\n",
        "Box A: 2 gold coins\n",
        "\n",
        "Box B: 2 silver coins\n",
        "\n",
        "Box C: 1 gold, 1 silver\n",
        "You pick a random box, then pull a random coin — it’s gold.\n",
        "What’s the probability the next coin from that box is also gold?\n",
        "Answer: 2/3\n",
        "Concepts: conditional probability, normalization of evidence.\n"
      ],
      "metadata": {
        "id": "lM-HlG93DD2k"
      }
    },
    {
      "cell_type": "code",
      "source": [],
      "metadata": {
        "id": "4xCp-a3DDKY7"
      },
      "execution_count": null,
      "outputs": []
    },
    {
      "cell_type": "markdown",
      "source": [
        "\n",
        "6. Correlation and Independence (Conceptual)\n",
        "You observe that ice cream sales and drowning deaths are highly correlated.\n",
        "Explain why this does not imply causation.\n",
        "Discuss:\n",
        "\n",
        "Common-cause confounding (temperature)\n",
        "\n",
        "Difference between correlation and causation\n",
        "\n",
        "Example of how to test independence statistically\n",
        "\n",
        "Lightning Drill Problems (short 3–5 minute ones)\n",
        "\n",
        "Dice Sum: Roll two fair dice. What’s P(sum = 7)?\n",
        "→ 6/36 = 1/6\n",
        "\n",
        "Expectation: What’s E[X] if X ~ Uniform(0,1)?\n",
        "→ 0.5\n",
        "\n",
        "Variance: Var(X) for X ~ Uniform(0,1)?\n",
        "→ 1/12\n",
        "\n",
        "Law of Total Probability (concept check):\n",
        "You have two sensors, one accurate 90% of the time, the other 70%. One is picked at random to make a measurement. What’s overall accuracy?\n",
        "→ (0.5)(0.9 + 0.7) = 0.8\n",
        "\n",
        "Interpretation: If P(A|B) > P(A), what does this imply about A and B?\n",
        "→ They are positively associated.\n",
        "\n",
        "Estimation Question:\n",
        "You sample 100 points, mean=50, std=10.\n",
        "What’s the 95% CI for the mean?\n",
        "→ 50 ± (1.96 * 10 / √100) = (48.04, 51.96)\n",
        "\n"
      ],
      "metadata": {
        "id": "Vc2m3sYgDFKs"
      }
    },
    {
      "cell_type": "code",
      "source": [],
      "metadata": {
        "id": "p4REWYeaDK4b"
      },
      "execution_count": null,
      "outputs": []
    },
    {
      "cell_type": "markdown",
      "source": [
        "7. Monte Carlo Estimation (Applied)\n",
        "Estimate π by simulating random (x, y) points inside the unit square and counting how many fall within the unit circle.\n",
        "Concepts: random sampling, expectation approximation, convergence."
      ],
      "metadata": {
        "id": "kNgiBvmUDHeJ"
      }
    },
    {
      "cell_type": "markdown",
      "source": [
        "# Probability"
      ],
      "metadata": {
        "id": "nQPV2RINHrkf"
      }
    },
    {
      "cell_type": "markdown",
      "source": [
        "\n",
        "5.1. Google: Two teams play a series of games (best of 7 — whoever wins 4 games first) in which each team has a 50% chance of winning any given round (no draws allowed). What is the probability that the series goes to 7 games?\n"
      ],
      "metadata": {
        "id": "8cgVCLqDHFIb"
      }
    },
    {
      "cell_type": "markdown",
      "source": [
        "\n",
        "5.2. JP Morgan: Say you roll a die three times. What is the probability of getting two sixes in a row?\n"
      ],
      "metadata": {
        "id": "G6x4GZPXHQ23"
      }
    },
    {
      "cell_type": "markdown",
      "source": [
        "5.3. Uber: You roll three dice, one after another. What is the probability that you obtain three numbers in a strictly increasing order?\n"
      ],
      "metadata": {
        "id": "o_wz_rShHTMO"
      }
    },
    {
      "cell_type": "markdown",
      "source": [
        "5.4. Zenefits: Assume you have a deck of 100 cards with values ranging from 1 to 100, and that you draw two cards at random without replacement. What is the probability that the number of one card is precisely double that of the other?\n"
      ],
      "metadata": {
        "id": "DURMH2rRHUfC"
      }
    },
    {
      "cell_type": "markdown",
      "source": [
        "5.5. JP Morgan: Imagine you are in a 3D space. From (0,0,0) to (3,3,3), how many paths are there if you can move only up, right, and forward?\n"
      ],
      "metadata": {
        "id": "p6CKMD1mHZ27"
      }
    },
    {
      "cell_type": "markdown",
      "source": [
        "5.6. Amazon: One in a thousand people have a particular disease, and the test for the disease is 98%\n",
        "correct in testing for the disease. On the other hand, the test has a 1% error rate if the person\n",
        "being tested does not have the disease. If someone tests positive, what are the odds they have\n",
        "the disease?\n"
      ],
      "metadata": {
        "id": "fm9gnoFrHcrQ"
      }
    },
    {
      "cell_type": "markdown",
      "source": [
        "5.7. Facebook: Assume two coins, one fair (having one side heads and one side tails) and the other\n",
        "unfair (having both sides tails). You pick one at random, flip it five times, and observe that it\n",
        "comes up as tails all five times. What is the probability that you are flipping the unfair coin?\n"
      ],
      "metadata": {
        "id": "tSi1A5pxHeBj"
      }
    },
    {
      "cell_type": "markdown",
      "source": [
        "5.8.\n",
        "Goldman Sachs: Players A and B are playing a game where they take turns flipping a biased\n",
        "coin, with p probability of landing on heads (and winning). Player A starts the game, and then\n",
        "the players pass the coin back and forth until one person flips heads and wins. What is the\n",
        "probability that A wins?\n"
      ],
      "metadata": {
        "id": "39I7VKDqHfRY"
      }
    },
    {
      "cell_type": "markdown",
      "source": [
        "5.9. Microsoft: Three friends in Seattle each told you it is rainy, and each person has a 1/3 probability\n",
        "of lying. What is the probability that Seattle is rainy, assuming that the likelihood of rain on\n",
        "any given day is 0.25?\n"
      ],
      "metadata": {
        "id": "XqQEpVeSHgpS"
      }
    },
    {
      "cell_type": "markdown",
      "source": [
        "5.10. Bloomberg: You draw a circle and choose two chords at random. What is the probability that\n",
        "those chords will intersect?"
      ],
      "metadata": {
        "id": "xrx6L6B1HhsZ"
      }
    },
    {
      "cell_type": "markdown",
      "source": [
        "# Stats"
      ],
      "metadata": {
        "id": "xUVocNLAHoGg"
      }
    },
    {
      "cell_type": "markdown",
      "source": [
        "6.1 Uber: Explain the Central Limit Theorem. Why it is useful?\n"
      ],
      "metadata": {
        "id": "7KJuWSUnHtao"
      }
    },
    {
      "cell_type": "markdown",
      "source": [
        "6.2. Facebook: How would you explain a confidence interval to a non-technical audience?\n"
      ],
      "metadata": {
        "id": "I5n8Ly0DHv7S"
      }
    },
    {
      "cell_type": "markdown",
      "source": [
        "6.3. Twitter: What are some common pitfalls encountered in A/B testing?\n"
      ],
      "metadata": {
        "id": "c5sk00rcHyFo"
      }
    },
    {
      "cell_type": "markdown",
      "source": [
        "6.4. Lyft: Explain both covariance and correlation formulaically, and compare and contrast them.\n"
      ],
      "metadata": {
        "id": "Wfdb4Id-HzQD"
      }
    },
    {
      "cell_type": "markdown",
      "source": [
        "6.5. Facebook: Say you flip a coin 10 times and observe only one heads. What would be your null hypothesis and p-value for testing whether the coin is fair or not?\n"
      ],
      "metadata": {
        "id": "R58pu7QcH0qA"
      }
    },
    {
      "cell_type": "markdown",
      "source": [
        "6.6.Uber: Describe hypothesis testing and p-values in layman's terms?\n"
      ],
      "metadata": {
        "id": "7Kdld-mRH2Gc"
      }
    },
    {
      "cell_type": "code",
      "source": [],
      "metadata": {
        "id": "g8sIJi5yIH3y"
      },
      "execution_count": null,
      "outputs": []
    },
    {
      "cell_type": "markdown",
      "source": [
        "6.7. Groupon: Describe what Type I and Type II errors are, and the trade-offs between them.\n"
      ],
      "metadata": {
        "id": "ed3rkqY6IBh5"
      }
    },
    {
      "cell_type": "markdown",
      "source": [
        "6.8. Microsoft: Explain the statistical background behind power:\n"
      ],
      "metadata": {
        "id": "Jxc8AxloICdf"
      }
    },
    {
      "cell_type": "markdown",
      "source": [
        "6.9. Facebook: What is a Z-test and when would you use it versus a t-test?"
      ],
      "metadata": {
        "id": "tfUXpb6ZIDf7"
      }
    }
  ]
}