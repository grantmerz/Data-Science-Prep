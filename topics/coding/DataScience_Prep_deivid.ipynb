{
  "nbformat": 4,
  "nbformat_minor": 0,
  "metadata": {
    "colab": {
      "provenance": []
    },
    "kernelspec": {
      "name": "python3",
      "display_name": "Python 3"
    },
    "language_info": {
      "name": "python"
    }
  },
  "cells": [
    {
      "cell_type": "markdown",
      "source": [
        "# 1. Array Problem: Longest Consecutive Sequence (Medium)\n",
        "\n",
        "Given an unsorted list of integers, find the length of the longest sequence of consecutive numbers.\n",
        "Example: [100, 4, 200, 1, 3, 2] → 4 (because [1, 2, 3, 4] is the longest sequence).\n",
        "Discuss:\n",
        "\n",
        "Hash-set approach vs. sorting\n",
        "\n",
        "Time complexity O(n) vs O(n log n)\n",
        "\n",
        "Edge cases (empty list, duplicates)\n",
        "\n",
        "https://leetcode.com/problems/longest-consecutive-sequence?envType=problem-list-v2&envId=array"
      ],
      "metadata": {
        "id": "zMCKRlNKe38y"
      }
    },
    {
      "cell_type": "code",
      "source": [
        "nums = [100, 4, 200, 1, 3, 2]\n",
        "consecutive_list = []\n",
        "for i in range(len(nums)):\n",
        "    for j in range(i+1, len(nums)):\n",
        "        if abs(nums[i]-nums[j]) == 1:\n",
        "            if nums[i] not in consecutive_list:\n",
        "                consecutive_list.append(nums[i])\n",
        "            if nums[j] not in consecutive_list:\n",
        "                consecutive_list.append(nums[j])\n",
        "\n",
        "len(consecutive_list)"
      ],
      "metadata": {
        "colab": {
          "base_uri": "https://localhost:8080/"
        },
        "id": "KhqjGfnrg7UM",
        "outputId": "15fe6fc1-3636-4708-a9f4-40955fd59046"
      },
      "execution_count": null,
      "outputs": [
        {
          "output_type": "execute_result",
          "data": {
            "text/plain": [
              "4"
            ]
          },
          "metadata": {},
          "execution_count": 12
        }
      ]
    },
    {
      "cell_type": "code",
      "source": [
        "def longestConsecutive(nums):\n",
        "    \"\"\"\n",
        "    Finds the length of the longest consecutive sequence in an unsorted list of integers.\n",
        "\n",
        "    Args:\n",
        "        nums: A list of integers.\n",
        "\n",
        "    Returns:\n",
        "        The length of the longest consecutive sequence.\n",
        "    \"\"\"\n",
        "    num_set = set(nums)\n",
        "    longest_streak = 0\n",
        "\n",
        "    for num in num_set:\n",
        "        # Check if the current number is the start of a sequence\n",
        "        if num - 1 not in num_set:\n",
        "            current_num = num\n",
        "            current_streak = 1\n",
        "\n",
        "            # Count the length of the consecutive sequence\n",
        "            while current_num + 1 in num_set:\n",
        "                current_num += 1\n",
        "                current_streak += 1\n",
        "\n",
        "            longest_streak = max(longest_streak, current_streak)\n",
        "\n",
        "    return longest_streak\n",
        "\n",
        "# Example usage:\n",
        "nums = [100, 4, 200, 1, 3, 2]\n",
        "result = longestConsecutive(nums)\n",
        "print(f\"The longest consecutive sequence in {nums} is of length: {result}\")\n",
        "\n",
        "nums2 = [0,3,7,2,5,8,4,6,0,1]\n",
        "result2 = longestConsecutive(nums2)\n",
        "print(f\"The longest consecutive sequence in {nums2} is of length: {result2}\")"
      ],
      "metadata": {
        "colab": {
          "base_uri": "https://localhost:8080/"
        },
        "id": "Dy6YcCEJoq3m",
        "outputId": "5e8714b4-9562-4953-ec58-05012530ecc3"
      },
      "execution_count": null,
      "outputs": [
        {
          "output_type": "stream",
          "name": "stdout",
          "text": [
            "The longest consecutive sequence in [100, 4, 200, 1, 3, 2] is of length: 4\n",
            "The longest consecutive sequence in [0, 3, 7, 2, 5, 8, 4, 6, 0, 1] is of length: 9\n"
          ]
        }
      ]
    },
    {
      "cell_type": "markdown",
      "source": [
        "# 2. String Problem: Valid Anagram (Easy)\n",
        "\n",
        "Given two strings, return True if one is an anagram of the other.\n",
        "Example: anagram, nagaram → True\n",
        "Follow-up: optimize for large input using a dictionary or collections.Counter.\n",
        "Discuss:\n",
        "\n",
        "Sorting vs frequency counting\n",
        "\n",
        "Memory tradeoffs\n",
        "\n",
        "Unicode or casing edge cases\n",
        "\n",
        "https://leetcode.com/problems/valid-anagram?envType=problem-list-v2&envId=string\n"
      ],
      "metadata": {
        "id": "MHQQjn7jgynT"
      }
    },
    {
      "cell_type": "code",
      "source": [
        "def isAnagram(s, t):\n",
        "    \"\"\"\n",
        "    :type s: str\n",
        "    :type t: str\n",
        "    :rtype: bool\n",
        "    \"\"\"\n",
        "    if len(s) != len(t):\n",
        "        return False\n",
        "    main_count = {}\n",
        "    for i in range(len(s)):\n",
        "        if s[i] in main_count.keys():\n",
        "            main_count[s[i]] += 1\n",
        "        else:\n",
        "            main_count[s[i]] = 1\n",
        "        print('1',main_count)\n",
        "\n",
        "        if t[i] in main_count.keys():\n",
        "            main_count[t[i]] -= 1\n",
        "        else:\n",
        "            main_count[t[i]] = -1\n",
        "        print('2',main_count)\n",
        "\n",
        "    for key, value in main_count.items():\n",
        "        if value != 0:\n",
        "            return False\n",
        "    return True\n",
        "\n",
        "isAnagram(s = \"anagram\", t = \"nagaram\")\n"
      ],
      "metadata": {
        "colab": {
          "base_uri": "https://localhost:8080/"
        },
        "id": "cVtK3ifOg7-A",
        "outputId": "34dd7b55-b9cb-4203-a8bc-c3a4899aebff"
      },
      "execution_count": null,
      "outputs": [
        {
          "output_type": "stream",
          "name": "stdout",
          "text": [
            "1 {'a': 1}\n",
            "2 {'a': 1, 'n': -1}\n",
            "1 {'a': 1, 'n': 0}\n",
            "2 {'a': 0, 'n': 0}\n",
            "1 {'a': 1, 'n': 0}\n",
            "2 {'a': 1, 'n': 0, 'g': -1}\n",
            "1 {'a': 1, 'n': 0, 'g': 0}\n",
            "2 {'a': 0, 'n': 0, 'g': 0}\n",
            "1 {'a': 0, 'n': 0, 'g': 0, 'r': 1}\n",
            "2 {'a': 0, 'n': 0, 'g': 0, 'r': 0}\n",
            "1 {'a': 1, 'n': 0, 'g': 0, 'r': 0}\n",
            "2 {'a': 0, 'n': 0, 'g': 0, 'r': 0}\n",
            "1 {'a': 0, 'n': 0, 'g': 0, 'r': 0, 'm': 1}\n",
            "2 {'a': 0, 'n': 0, 'g': 0, 'r': 0, 'm': 0}\n"
          ]
        },
        {
          "output_type": "execute_result",
          "data": {
            "text/plain": [
              "True"
            ]
          },
          "metadata": {},
          "execution_count": 24
        }
      ]
    },
    {
      "cell_type": "markdown",
      "source": [
        "# 3. Dict Problem: Two Sum (Easy/Classic)\n",
        "\n",
        "Given an array of integers and a target, return indices of the two numbers such that they add up to target.\n",
        "Example: [2, 7, 11, 15], target 9 → [0, 1]\n",
        "Discuss:\n",
        "\n",
        "Brute-force vs hash map (O(n²) vs O(n))\n",
        "\n",
        "Duplicates and same-element cases\n",
        "\n",
        "Lightning Drill Problems\n",
        "\n",
        "https://leetcode.com/problems/two-sum"
      ],
      "metadata": {
        "id": "m1RXZyZZg0pS"
      }
    },
    {
      "cell_type": "code",
      "source": [
        "def twoSum(nums, target):\n",
        "    for i in range(len(nums)):\n",
        "        for j in range(i+1, len(nums)):\n",
        "            if nums[i]+nums[j] == target:\n",
        "                return [i,j]\n",
        "nums = [3,2,4]\n",
        "target = 6\n",
        "\n",
        "assert [1,2] == twoSum(nums, target)"
      ],
      "metadata": {
        "id": "j4uoBks0g8hs"
      },
      "execution_count": null,
      "outputs": []
    },
    {
      "cell_type": "markdown",
      "source": [
        "# 4. Palindrome Check (String)\n",
        "\n",
        "Write a function to check if a string is a palindrome, ignoring punctuation and case.\n",
        "Example: \"A man, a plan, a canal: Panama\" → True\n",
        "Hint: use two-pointer technique.\n",
        "Goal: O(n) time, O(1) extra space.\n",
        "\n",
        "https://leetcode.com/problems/valid-palindrome?envType=problem-list-v2&envId=string"
      ],
      "metadata": {
        "id": "B65fnQ4hg3Du"
      }
    },
    {
      "cell_type": "code",
      "source": [
        "def isPalindrome(s):\n",
        "    \"\"\"\n",
        "    :type s: str\n",
        "    :rtype: bool\n",
        "    \"\"\"\n",
        "    clean_text = ''.join(char.lower() for char in s if char.isalnum())\n",
        "    # print(clean_text)\n",
        "    for i in range(len(clean_text)):\n",
        "        forward = clean_text[i]\n",
        "        backward = clean_text[len(clean_text)-i-1]\n",
        "        if forward != backward:\n",
        "            return False\n",
        "    return True\n",
        "\n",
        "assert isPalindrome(\"A man, a plan, a canal: Panama\")"
      ],
      "metadata": {
        "id": "m9F6n3EDg8-A"
      },
      "execution_count": null,
      "outputs": []
    },
    {
      "cell_type": "markdown",
      "source": [
        "# 5. Character Frequency (Dict)\n",
        "\n",
        "Count frequency of each character in a string. Return the most common character and its count.\n",
        "Example: \"mississippi\" → 'i': 4\n",
        "Goal: use a dict or collections.Counter, and discuss ties.\n",
        "\n"
      ],
      "metadata": {
        "id": "Kb1rZdaKg4dC"
      }
    },
    {
      "cell_type": "code",
      "source": [
        "from ast import main\n",
        "def CharFreq(st):\n",
        "    main_count={}\n",
        "    max = 0\n",
        "    max_char = ''\n",
        "    for s in st:\n",
        "        if s in main_count.keys():\n",
        "            main_count[s] += 1\n",
        "        else:\n",
        "            main_count[s] = 1\n",
        "        if main_count[s] > max:\n",
        "            max = main_count[s]\n",
        "            max_char = s\n",
        "    print(main_count)\n",
        "    return [max_char, max]\n",
        "\n",
        "print(CharFreq(\"mississippi\"))\n",
        "assert CharFreq(\"mississippi\") == ['s', 4]"
      ],
      "metadata": {
        "colab": {
          "base_uri": "https://localhost:8080/"
        },
        "id": "THOFGMO1g9g0",
        "outputId": "a31b2635-f07c-43c1-b342-e38aed69df7f"
      },
      "execution_count": null,
      "outputs": [
        {
          "output_type": "stream",
          "name": "stdout",
          "text": [
            "{'m': 1, 'i': 4, 's': 4, 'p': 2}\n",
            "['s', 4]\n",
            "{'m': 1, 'i': 4, 's': 4, 'p': 2}\n"
          ]
        }
      ]
    },
    {
      "cell_type": "markdown",
      "source": [
        "# 6. Move Zeroes (Array Manipulation)\n",
        "\n",
        "Move all zeroes to the end of the array while maintaining order of other elements.\n",
        "Example: [0,1,0,3,12] → [1,3,12,0,0]\n",
        "Discuss:\n",
        "\n",
        "In-place operations\n",
        "\n",
        "Two-pointer vs auxiliary list approaches\n",
        "\n",
        "Complexity and space tradeoff\n",
        "\n",
        "https://leetcode.com/problems/move-zeroes"
      ],
      "metadata": {
        "id": "yG7R8aE8g6MG"
      }
    },
    {
      "cell_type": "code",
      "source": [],
      "metadata": {
        "id": "jLcARocog-Lx"
      },
      "execution_count": null,
      "outputs": []
    },
    {
      "cell_type": "markdown",
      "source": [
        "# Problems from \"Ace the Data Science Interview\""
      ],
      "metadata": {
        "id": "cxbz3dEhwz9A"
      }
    },
    {
      "cell_type": "markdown",
      "source": [
        "9.1 Amazon: Given two arrays, write a function to get the intersection of the two. For example, if A = [1, 2, 3, 4, 5], and B = [0, 1, 3, 7] then you should return [1, 3].\n",
        "\n"
      ],
      "metadata": {
        "id": "Zl0hUW3NvdEe"
      }
    },
    {
      "cell_type": "code",
      "source": [
        "A = [1, 2, 3, 4, 5]\n",
        "B = [0, 1, 3, 7]\n",
        "\n",
        "set_a = set(A)\n",
        "set_b = set(B)\n",
        "interset = set()\n",
        "\n",
        "if len(set_a) > len(set_b):\n",
        "    for i in set_a:\n",
        "        if i in set_b:\n",
        "            interset.add(i)\n",
        "else:\n",
        "    for i in set_b:\n",
        "        if i in set_a:\n",
        "            interset.add(i)\n",
        "print(list(interset))\n",
        ""
      ],
      "metadata": {
        "colab": {
          "base_uri": "https://localhost:8080/"
        },
        "id": "Elmualqtw5H6",
        "outputId": "c002a3c8-4275-4bb5-8eec-cca95c858cff"
      },
      "execution_count": 68,
      "outputs": [
        {
          "output_type": "stream",
          "name": "stdout",
          "text": [
            "[1, 3]\n"
          ]
        }
      ]
    },
    {
      "cell_type": "code",
      "source": [],
      "metadata": {
        "id": "W15PpyhIzWdS"
      },
      "execution_count": null,
      "outputs": []
    },
    {
      "cell_type": "markdown",
      "source": [
        "\n",
        "9.2. D.E. Shaw: Given an integer array, return the maximum product of any three numbers in the array. For example, for A = [1, 3, 4, 5], you should return 60, while for B = [-2, -4, 5, 3] you should return 40.\n",
        "\n"
      ],
      "metadata": {
        "id": "Ihhy7dgPwsBf"
      }
    },
    {
      "cell_type": "code",
      "source": [
        "B = [1, 3, 4, 5]\n",
        "\n",
        "product_max = 0\n",
        "for i in range(len(B)):\n",
        "    for j in range(len(B)):\n",
        "        for k in range(len(B)):\n",
        "\n",
        "            if i!=j and i!=k and j!=k:\n",
        "                product = B[i]*B[j]*B[k]\n",
        "                if product > product_max:\n",
        "                    product_max=product\n",
        "print(product_max)"
      ],
      "metadata": {
        "colab": {
          "base_uri": "https://localhost:8080/"
        },
        "id": "hUctcSfEw5zU",
        "outputId": "facfae1c-8c17-4e61-c404-d6f149babeae"
      },
      "execution_count": 12,
      "outputs": [
        {
          "output_type": "stream",
          "name": "stdout",
          "text": [
            "60\n"
          ]
        }
      ]
    },
    {
      "cell_type": "markdown",
      "source": [
        "9.3. Facebook: Given a list of coordinates, write a function to find the k closest points (measured by Euclidean distance) to the origin. For example, if k = 3, and the points are: [[2, - 1], [3, 2], [4, 1],[-1, - 1], [-2, 2]], then return [-1, - 1], [2, - 1], [-2, 2].\n",
        "\n"
      ],
      "metadata": {
        "id": "75PALLvEwtZU"
      }
    },
    {
      "cell_type": "code",
      "source": [
        "import heapq\n",
        "k = 3\n",
        "nums = [[2, - 1], [3, 2], [4, 1],[-1, - 1], [-2, 2]]\n",
        "distances = {}\n",
        "row = 0\n",
        "heap = []\n",
        "\n",
        "for c in nums:\n",
        "    x = c[0]\n",
        "    y = c[1]\n",
        "    # print(x,y)\n",
        "    distance = x**2 + y**2\n",
        "    distances[row] = distance\n",
        "    heapq.heappush(heap, (distance, c))\n",
        "\n",
        "print([ heapq.heappop(heap)[1] for i in range(k)])\n",
        "\n",
        "\n",
        "\n"
      ],
      "metadata": {
        "colab": {
          "base_uri": "https://localhost:8080/"
        },
        "id": "_LJNTZz8w78D",
        "outputId": "f41554b0-c065-41ec-e51b-e510e7a9951a"
      },
      "execution_count": 27,
      "outputs": [
        {
          "output_type": "stream",
          "name": "stdout",
          "text": [
            "[[-1, -1], [2, -1], [-2, 2]]\n"
          ]
        }
      ]
    },
    {
      "cell_type": "code",
      "source": [
        "import heapq\n",
        "h = []\n",
        "for i in range(10,-1,-1):\n",
        "    heapq.heappush(h, i)\n",
        "print( [heapq.heappop(h) for i in range(len(h))])"
      ],
      "metadata": {
        "colab": {
          "base_uri": "https://localhost:8080/"
        },
        "id": "wLoREfv52iWc",
        "outputId": "9eec25fd-4e2d-403e-f865-17bcd06368bd"
      },
      "execution_count": 24,
      "outputs": [
        {
          "output_type": "stream",
          "name": "stdout",
          "text": [
            "[0, 1, 2, 3, 4, 5, 6, 7, 8, 9, 10]\n"
          ]
        }
      ]
    },
    {
      "cell_type": "markdown",
      "source": [
        "\n",
        "9.4. Google: Say you have an n-by-n matrix of elements that are sorted in ascending order both in the columns and rows of the matrix. Return the k-th smallest element of the matrix. For example, consider the matrix below:\n",
        "```\n",
        "[[1, 4, 7],\n",
        "[3, 5, 9],\n",
        "[6, 8, 11]]\n",
        "```\n",
        "If k = 4, then return 5.\n"
      ],
      "metadata": {
        "id": "6GGfpqWLwuur"
      }
    },
    {
      "cell_type": "code",
      "source": [
        "nums= [[1, 4, 7],\n",
        "[3, 5, 9],\n",
        "[6, 8, 11]]\n",
        "row = 0\n",
        "col = 0\n",
        "item = 0\n",
        "k = 4\n",
        "\n",
        "# min_val = 0\n",
        "# while item <= k:\n",
        "#     if row == len(nums)-1 or col==len(nums)-1:\n",
        "#         break\n",
        "#     print(row,col, nums[row][col])\n",
        "#     if nums[row+1][col] > nums[row][col+1]:\n",
        "#         col += 1\n",
        "#     elif nums[row+1][col] < nums[row][col+1]:\n",
        "#         row += 1\n",
        "#     min_val = nums[row][col]\n",
        "#     item += 1\n",
        "# print(min_val)\n",
        "\n",
        "heap = []\n",
        "for i in range(min(k, len(nums))):\n",
        "    for j in range(min(k, len(nums))):\n",
        "        heapq.heappush(heap, nums[i][j])\n",
        "result = [heapq.heappop(heap) for i in range(k) ][-1]\n",
        ""
      ],
      "metadata": {
        "colab": {
          "base_uri": "https://localhost:8080/"
        },
        "id": "T23CKWmbw8c-",
        "outputId": "ac46a725-1427-45c5-d626-78e025e43ffb"
      },
      "execution_count": 44,
      "outputs": [
        {
          "output_type": "stream",
          "name": "stdout",
          "text": [
            "0 0\n",
            "0 1\n",
            "0 2\n",
            "1 0\n",
            "1 1\n",
            "1 2\n",
            "2 0\n",
            "2 1\n",
            "2 2\n"
          ]
        }
      ]
    },
    {
      "cell_type": "markdown",
      "source": [
        "\n",
        "9.5. Akuna Capital: Given an integer array, find the sum of the largest contiguous subarray within the array. For example, if the input is [-1, -3, 5, -4, 3, -6, 9, 2], then return 11 (because of [9,2]). Note that if all the elements are negative, you should return 0.\n",
        "\n"
      ],
      "metadata": {
        "id": "7E-vJ-gxwwOZ"
      }
    },
    {
      "cell_type": "code",
      "source": [
        "nums = [-1, -3, 5, 4, 3, -6, 9, 2]\n",
        "start = 0\n",
        "end = 1\n",
        "sum = 0\n",
        "max_sum = nums[0]\n",
        "# while start < len(nums):\n",
        "#     test_sum = 0\n",
        "#     for n in nums[start:end+1]:\n",
        "#         test_sum += n\n",
        "#     print(start,end,test_sum)\n",
        "#     if test_sum > sum:\n",
        "#         sum = test_sum\n",
        "#         end +=1\n",
        "#     else:\n",
        "#         sum = 0\n",
        "#         start +=1\n",
        "#         end+=1\n",
        "max_sum = nums[0]\n",
        "for i in range(len(nums)):\n",
        "    sum += nums[i]\n",
        "    print(i, sum)\n",
        "    max_sum = max(sum, max_sum)\n",
        "    if sum < 0:\n",
        "        sum = 0\n",
        "print(max_sum)\n",
        ""
      ],
      "metadata": {
        "colab": {
          "base_uri": "https://localhost:8080/"
        },
        "id": "ufGAVEVhw83V",
        "outputId": "3c6716e2-4120-4f42-db32-2ccd207b2be0"
      },
      "execution_count": 69,
      "outputs": [
        {
          "output_type": "stream",
          "name": "stdout",
          "text": [
            "0 -1\n",
            "1 -3\n",
            "2 5\n",
            "3 9\n",
            "4 12\n",
            "5 6\n",
            "6 15\n",
            "7 17\n",
            "17\n"
          ]
        }
      ]
    },
    {
      "cell_type": "code",
      "source": [
        "for i in range(3, 10, 1):\n",
        "    print(i)\n"
      ],
      "metadata": {
        "colab": {
          "base_uri": "https://localhost:8080/"
        },
        "id": "0A42kORJGkWX",
        "outputId": "3577ceda-8bd0-47d2-b309-94f49d4cc8b6"
      },
      "execution_count": 72,
      "outputs": [
        {
          "output_type": "stream",
          "name": "stdout",
          "text": [
            "3\n",
            "4\n",
            "5\n",
            "6\n",
            "7\n",
            "8\n",
            "9\n"
          ]
        }
      ]
    },
    {
      "cell_type": "code",
      "source": [],
      "metadata": {
        "id": "6JpUSTPXGkB6"
      },
      "execution_count": null,
      "outputs": []
    },
    {
      "cell_type": "code",
      "source": [
        "sum"
      ],
      "metadata": {
        "colab": {
          "base_uri": "https://localhost:8080/"
        },
        "id": "KmCtyQH89V65",
        "outputId": "1943176d-5109-412f-e2b6-c0000254c939"
      },
      "execution_count": 54,
      "outputs": [
        {
          "output_type": "execute_result",
          "data": {
            "text/plain": [
              "0"
            ]
          },
          "metadata": {},
          "execution_count": 54
        }
      ]
    },
    {
      "cell_type": "markdown",
      "source": [
        "\n",
        "9.6. Facebook: Given a binary tree, write a function to determine whether the tree is a mirror image of itself. Two trees are a mirror image of each other if their root values are the same and the left subtree is a mirror image of the right subtree."
      ],
      "metadata": {
        "id": "AHlj4mgkwxMt"
      }
    },
    {
      "cell_type": "code",
      "source": [],
      "metadata": {
        "id": "z9kPFwqsw9SP"
      },
      "execution_count": null,
      "outputs": []
    }
  ]
}